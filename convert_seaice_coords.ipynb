{
 "cells": [
  {
   "cell_type": "markdown",
   "id": "75935940-4d5d-4670-87be-91e35d661b9e",
   "metadata": {},
   "source": [
    "### Notebook to convert sea ice conentration data from NSIDC to lat/lon coords\n",
    "\n",
    "So far, this only works for v3 data (which contain lat/lon coordinates, so the project conversion is easy). V4 data ([link](https://polarwatch.noaa.gov/catalog/ice-sq-nh-nsidc-cdr-v4/preview/?dataset=daily&var=cdr_seaice_conc&time_min=2021-05-31T00:00:00Z&time_max=2021-05-31T00:00:00Z&proj=epsg3413&colorBar=KT_ice|||0|1|)) don't have lat/lon so it's messier.\n",
    "\n",
    "Uses nctoolkit\n",
    "\n",
    "k.drushka // jan 2022"
   ]
  },
  {
   "cell_type": "code",
   "execution_count": 1,
   "id": "f2ef91ff-b849-4175-8877-28c3f22f34ee",
   "metadata": {},
   "outputs": [
    {
     "name": "stdout",
     "output_type": "stream",
     "text": [
      "nctoolkit is using Climate Data Operators version 1.9.9\n"
     ]
    }
   ],
   "source": [
    "import os\n",
    "import glob\n",
    "import nctoolkit as nc"
   ]
  },
  {
   "cell_type": "markdown",
   "id": "5628f8e3-c053-4c8d-9a3f-b694e6821d13",
   "metadata": {},
   "source": [
    "Data product: daily, 25km, v4 product SIC from NSIDC, downloaded from sidads.colorado.edu \n",
    "\n",
    "Script to grab the Aug & Sept data from 2014-2020 via ftp using wget (stores to directory ./sic_daily_v3/)\n",
    "\n",
    "\n",
    "\n",
    "    for y in {2014..2020}\n",
    "    do\n",
    "            for m in {08..09}\n",
    "            do\n",
    "                    for d in {01..31}\n",
    "                        do wget -nc  ftp://sidads.colorado.edu/pub/DATASETS/NOAA/G02202_V3/north/daily/${y}/seaice_conc_daily_nh_f17_${y}${m}${d}_v03r01.nc\n",
    "                    done\n",
    "            done\n",
    "    done\n",
    "\n",
    "\n",
    "\n",
    "\n",
    "\n",
    "\n",
    "NOTE: this is the script to grab the v4 data: (stores to directory ./sic_daily_v4/)\n",
    "\n",
    "    for y in {2014..2020}\n",
    "    do\n",
    "        for m in {08..09}\n",
    "        do\n",
    "            for d in {01..31} \n",
    "            do wget -nc -P sic_daily_v4  ftp://sidads.colorado.edu/pub/DATASETS/NOAA/G02202_V4/north/daily/${y}/seaice_conc_daily_nh_${y}${m}${d}_f17_v04r00.nc\n",
    "            done\n",
    "        done\n",
    "    done\n"
   ]
  },
  {
   "cell_type": "code",
   "execution_count": 2,
   "id": "be169ff8-f915-49a8-9b04-8335e4bb79ce",
   "metadata": {},
   "outputs": [
    {
     "name": "stdout",
     "output_type": "stream",
     "text": [
      "saving output to /data1/sassie/satellite/seaice/sic_daily_v3/regridded/\n"
     ]
    }
   ],
   "source": [
    "# directory where data files are stored\n",
    "version = 3 # must be 3.... version 4 not yet implemented\n",
    "ddir = f'/data1/sassie/satellite/seaice/sic_daily_v{version}/'\n",
    "\n",
    "# make \"regridded\" file for outputs, if it doesn't exist\n",
    "savedir = ddir + 'regridded/'\n",
    "if not(os.path.isdir(savedir)):\n",
    "    os.mkdir(savedir)\n",
    "print(f'saving output to {savedir}')"
   ]
  },
  {
   "cell_type": "code",
   "execution_count": null,
   "id": "ec28686a-8548-4ff0-8e13-9422bf42b370",
   "metadata": {},
   "outputs": [
    {
     "name": "stdout",
     "output_type": "stream",
     "text": [
      "/data1/sassie/satellite/seaice/sic_daily_v3/seaice_conc_daily_nh_f17_20120801_v03r01.nc ( 0 of 672 )\n",
      "/data1/sassie/satellite/seaice/sic_daily_v3/seaice_conc_daily_nh_f17_20120802_v03r01.nc ( 1 of 672 )\n",
      "/data1/sassie/satellite/seaice/sic_daily_v3/seaice_conc_daily_nh_f17_20120803_v03r01.nc ( 2 of 672 )\n",
      "/data1/sassie/satellite/seaice/sic_daily_v3/seaice_conc_daily_nh_f17_20120804_v03r01.nc ( 3 of 672 )\n",
      "/data1/sassie/satellite/seaice/sic_daily_v3/seaice_conc_daily_nh_f17_20120805_v03r01.nc ( 4 of 672 )\n",
      "/data1/sassie/satellite/seaice/sic_daily_v3/seaice_conc_daily_nh_f17_20120806_v03r01.nc ( 5 of 672 )\n",
      "/data1/sassie/satellite/seaice/sic_daily_v3/seaice_conc_daily_nh_f17_20120807_v03r01.nc ( 6 of 672 )\n",
      "/data1/sassie/satellite/seaice/sic_daily_v3/seaice_conc_daily_nh_f17_20120808_v03r01.nc ( 7 of 672 )\n",
      "/data1/sassie/satellite/seaice/sic_daily_v3/seaice_conc_daily_nh_f17_20120809_v03r01.nc ( 8 of 672 )\n",
      "/data1/sassie/satellite/seaice/sic_daily_v3/seaice_conc_daily_nh_f17_20120810_v03r01.nc ( 9 of 672 )\n",
      "/data1/sassie/satellite/seaice/sic_daily_v3/seaice_conc_daily_nh_f17_20120811_v03r01.nc ( 10 of 672 )\n",
      "/data1/sassie/satellite/seaice/sic_daily_v3/seaice_conc_daily_nh_f17_20120812_v03r01.nc ( 11 of 672 )\n",
      "/data1/sassie/satellite/seaice/sic_daily_v3/seaice_conc_daily_nh_f17_20120813_v03r01.nc ( 12 of 672 )\n",
      "/data1/sassie/satellite/seaice/sic_daily_v3/seaice_conc_daily_nh_f17_20120814_v03r01.nc ( 13 of 672 )\n",
      "/data1/sassie/satellite/seaice/sic_daily_v3/seaice_conc_daily_nh_f17_20120815_v03r01.nc ( 14 of 672 )\n",
      "/data1/sassie/satellite/seaice/sic_daily_v3/seaice_conc_daily_nh_f17_20120816_v03r01.nc ( 15 of 672 )\n",
      "/data1/sassie/satellite/seaice/sic_daily_v3/seaice_conc_daily_nh_f17_20120817_v03r01.nc ( 16 of 672 )\n",
      "/data1/sassie/satellite/seaice/sic_daily_v3/seaice_conc_daily_nh_f17_20120818_v03r01.nc ( 17 of 672 )\n",
      "/data1/sassie/satellite/seaice/sic_daily_v3/seaice_conc_daily_nh_f17_20120819_v03r01.nc ( 18 of 672 )\n",
      "/data1/sassie/satellite/seaice/sic_daily_v3/seaice_conc_daily_nh_f17_20120820_v03r01.nc ( 19 of 672 )\n",
      "/data1/sassie/satellite/seaice/sic_daily_v3/seaice_conc_daily_nh_f17_20120821_v03r01.nc ( 20 of 672 )\n",
      "/data1/sassie/satellite/seaice/sic_daily_v3/seaice_conc_daily_nh_f17_20120822_v03r01.nc ( 21 of 672 )\n",
      "/data1/sassie/satellite/seaice/sic_daily_v3/seaice_conc_daily_nh_f17_20120823_v03r01.nc ( 22 of 672 )\n",
      "/data1/sassie/satellite/seaice/sic_daily_v3/seaice_conc_daily_nh_f17_20120824_v03r01.nc ( 23 of 672 )\n",
      "/data1/sassie/satellite/seaice/sic_daily_v3/seaice_conc_daily_nh_f17_20120825_v03r01.nc ( 24 of 672 )\n",
      "/data1/sassie/satellite/seaice/sic_daily_v3/seaice_conc_daily_nh_f17_20120826_v03r01.nc ( 25 of 672 )\n",
      "/data1/sassie/satellite/seaice/sic_daily_v3/seaice_conc_daily_nh_f17_20120827_v03r01.nc ( 26 of 672 )\n",
      "/data1/sassie/satellite/seaice/sic_daily_v3/seaice_conc_daily_nh_f17_20120828_v03r01.nc ( 27 of 672 )\n",
      "/data1/sassie/satellite/seaice/sic_daily_v3/seaice_conc_daily_nh_f17_20120829_v03r01.nc ( 28 of 672 )\n",
      "/data1/sassie/satellite/seaice/sic_daily_v3/seaice_conc_daily_nh_f17_20120830_v03r01.nc ( 29 of 672 )\n",
      "/data1/sassie/satellite/seaice/sic_daily_v3/seaice_conc_daily_nh_f17_20120831_v03r01.nc ( 30 of 672 )\n",
      "/data1/sassie/satellite/seaice/sic_daily_v3/seaice_conc_daily_nh_f17_20120901_v03r01.nc ( 31 of 672 )\n",
      "/data1/sassie/satellite/seaice/sic_daily_v3/seaice_conc_daily_nh_f17_20120902_v03r01.nc ( 32 of 672 )\n",
      "/data1/sassie/satellite/seaice/sic_daily_v3/seaice_conc_daily_nh_f17_20120903_v03r01.nc ( 33 of 672 )\n",
      "/data1/sassie/satellite/seaice/sic_daily_v3/seaice_conc_daily_nh_f17_20120904_v03r01.nc ( 34 of 672 )\n",
      "/data1/sassie/satellite/seaice/sic_daily_v3/seaice_conc_daily_nh_f17_20120905_v03r01.nc ( 35 of 672 )\n",
      "/data1/sassie/satellite/seaice/sic_daily_v3/seaice_conc_daily_nh_f17_20120906_v03r01.nc ( 36 of 672 )\n",
      "/data1/sassie/satellite/seaice/sic_daily_v3/seaice_conc_daily_nh_f17_20120907_v03r01.nc ( 37 of 672 )\n",
      "/data1/sassie/satellite/seaice/sic_daily_v3/seaice_conc_daily_nh_f17_20120908_v03r01.nc ( 38 of 672 )\n",
      "/data1/sassie/satellite/seaice/sic_daily_v3/seaice_conc_daily_nh_f17_20120909_v03r01.nc ( 39 of 672 )\n",
      "/data1/sassie/satellite/seaice/sic_daily_v3/seaice_conc_daily_nh_f17_20120910_v03r01.nc ( 40 of 672 )\n",
      "/data1/sassie/satellite/seaice/sic_daily_v3/seaice_conc_daily_nh_f17_20120911_v03r01.nc ( 41 of 672 )\n",
      "/data1/sassie/satellite/seaice/sic_daily_v3/seaice_conc_daily_nh_f17_20120912_v03r01.nc ( 42 of 672 )\n",
      "/data1/sassie/satellite/seaice/sic_daily_v3/seaice_conc_daily_nh_f17_20120913_v03r01.nc ( 43 of 672 )\n",
      "/data1/sassie/satellite/seaice/sic_daily_v3/seaice_conc_daily_nh_f17_20120914_v03r01.nc ( 44 of 672 )\n",
      "/data1/sassie/satellite/seaice/sic_daily_v3/seaice_conc_daily_nh_f17_20120915_v03r01.nc ( 45 of 672 )\n",
      "/data1/sassie/satellite/seaice/sic_daily_v3/seaice_conc_daily_nh_f17_20120916_v03r01.nc ( 46 of 672 )\n",
      "/data1/sassie/satellite/seaice/sic_daily_v3/seaice_conc_daily_nh_f17_20120917_v03r01.nc ( 47 of 672 )\n",
      "/data1/sassie/satellite/seaice/sic_daily_v3/seaice_conc_daily_nh_f17_20120918_v03r01.nc ( 48 of 672 )\n",
      "/data1/sassie/satellite/seaice/sic_daily_v3/seaice_conc_daily_nh_f17_20120919_v03r01.nc ( 49 of 672 )\n"
     ]
    }
   ],
   "source": [
    "# list of files\n",
    "fg = sorted(glob.glob(ddir + '**nc'))\n",
    "# files to go through (all)\n",
    "fis = range(len(fg))\n",
    "\n",
    "# loop through files\n",
    "for fi in fis:\n",
    "    # --- select data: all lons, lats 30 to 90 ---\n",
    "    thisf=fg[fi]\n",
    "    # output filename: \"regridded\" folder, insert \"regridded\" into the filename\n",
    "    fnout = thisf.replace('seaice_conc_daily_nh_' , 'regridded/seaice_conc_daily_nh_regridded_')\n",
    "    # check if regridded (output) file  exists \n",
    "    if not(os.path.isfile(fnout)):\n",
    "        print(thisf , '(' , fi, 'of', len(fis), ')')\n",
    "        data = nc.open_data(thisf)\n",
    "        if version == 3:\n",
    "            # convert to lat/lon\n",
    "            data.to_latlon(lon=[0, 360], lat=[30, 90], res=0.1)\n",
    "        elif version == 4:\n",
    "            print('version 4 not yet implemented - quitting')\n",
    "            break\n",
    "        # save output to fnout    \n",
    "        data.to_nc(fnout)"
   ]
  },
  {
   "cell_type": "code",
   "execution_count": 7,
   "id": "d7a645e3-16bf-419f-a385-b0f351e633ff",
   "metadata": {},
   "outputs": [
    {
     "data": {
      "text/plain": [
       "'/data1/sassie/satellite/seaice/sic_daily_v3/regridded/seaice_conc_daily_nh_regridded_f17_20120801_v03r01.nc'"
      ]
     },
     "execution_count": 7,
     "metadata": {},
     "output_type": "execute_result"
    }
   ],
   "source": [
    "fnout = thisf.replace('seaice_conc_daily_nh_' , 'regridded/seaice_conc_daily_nh_regridded_')\n",
    "fnout"
   ]
  }
 ],
 "metadata": {
  "kernelspec": {
   "display_name": "Python 3",
   "language": "python",
   "name": "python3"
  },
  "language_info": {
   "codemirror_mode": {
    "name": "ipython",
    "version": 3
   },
   "file_extension": ".py",
   "mimetype": "text/x-python",
   "name": "python",
   "nbconvert_exporter": "python",
   "pygments_lexer": "ipython3",
   "version": "3.9.2"
  }
 },
 "nbformat": 4,
 "nbformat_minor": 5
}
